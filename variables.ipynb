{
  "nbformat": 4,
  "nbformat_minor": 0,
  "metadata": {
    "colab": {
      "name": "variables.ipynb",
      "provenance": [],
      "authorship_tag": "ABX9TyOTzIFwN5fzFu46BDpP9uA6",
      "include_colab_link": true
    },
    "kernelspec": {
      "name": "python3",
      "display_name": "Python 3"
    }
  },
  "cells": [
    {
      "cell_type": "markdown",
      "metadata": {
        "id": "view-in-github",
        "colab_type": "text"
      },
      "source": [
        "<a href=\"https://colab.research.google.com/github/hihihi4021/class2021Spring/blob/main/variables.ipynb\" target=\"_parent\"><img src=\"https://colab.research.google.com/assets/colab-badge.svg\" alt=\"Open In Colab\"/></a>"
      ]
    },
    {
      "cell_type": "markdown",
      "metadata": {
        "id": "Hs1I8HPPd81c"
      },
      "source": [
        "<복습>"
      ]
    },
    {
      "cell_type": "markdown",
      "metadata": {
        "id": "8zRBsSklef4s"
      },
      "source": [
        "float = 소수, int = 숫자, str = 문자, list = 대괄호 속 여러가지가 속해있는 형식"
      ]
    },
    {
      "cell_type": "code",
      "metadata": {
        "id": "KO_m1HHYeer9",
        "outputId": "88ebb255-82fb-4ffc-9921-2cbbbf41853b",
        "colab": {
          "base_uri": "https://localhost:8080/"
        }
      },
      "source": [
        "a = 2.3\r\n",
        "print (type(a))"
      ],
      "execution_count": 1,
      "outputs": [
        {
          "output_type": "stream",
          "text": [
            "<class 'float'>\n"
          ],
          "name": "stdout"
        }
      ]
    },
    {
      "cell_type": "code",
      "metadata": {
        "id": "40oNwkclfKHV",
        "outputId": "2f1f6d99-43d6-41bc-87b8-dc7075634e59",
        "colab": {
          "base_uri": "https://localhost:8080/"
        }
      },
      "source": [
        "a = 2.3\r\n",
        "a = int(a)\r\n",
        "print(a)"
      ],
      "execution_count": 4,
      "outputs": [
        {
          "output_type": "stream",
          "text": [
            "2\n"
          ],
          "name": "stdout"
        }
      ]
    },
    {
      "cell_type": "code",
      "metadata": {
        "id": "JRthYt8rhIec",
        "outputId": "82f08c48-1e11-4024-fdb7-8b8c49b60be7",
        "colab": {
          "base_uri": "https://localhost:8080/"
        }
      },
      "source": [
        "a = 'I AM IRON-MAN'\r\n",
        "print (type(a))"
      ],
      "execution_count": 8,
      "outputs": [
        {
          "output_type": "stream",
          "text": [
            "<class 'str'>\n"
          ],
          "name": "stdout"
        }
      ]
    },
    {
      "cell_type": "code",
      "metadata": {
        "id": "7YLAKJvChG6E",
        "outputId": "404466c6-42f7-43f5-b23b-fc3df57c1ef6",
        "colab": {
          "base_uri": "https://localhost:8080/"
        }
      },
      "source": [
        "a = [1,2,3,'who are you', 'what is your name','0703']\r\n",
        "print(a[5])\r\n",
        "print(a[4])\r\n",
        "print(a[-1])"
      ],
      "execution_count": 11,
      "outputs": [
        {
          "output_type": "stream",
          "text": [
            "0703\n",
            "what is your name\n",
            "0703\n"
          ],
          "name": "stdout"
        }
      ]
    },
    {
      "cell_type": "markdown",
      "metadata": {
        "id": "qWDElLCsfztS"
      },
      "source": [
        "(튜플)은 [리스트]와 동일하지만, 튜플의 경우 인덱스 수정 불가 -> 실수 방지를 위해 튜플 사용\r\n",
        "* 인덱스 순서는 0부터 시작함"
      ]
    },
    {
      "cell_type": "code",
      "metadata": {
        "id": "wpwgNTawjubK",
        "outputId": "61f637d8-158d-47ed-b2f3-0e10f53b36e1",
        "colab": {
          "base_uri": "https://localhost:8080/"
        }
      },
      "source": [
        "a = ('Hello', 2021, 'This is','a','ladybug')\r\n",
        "print(type(a))\r\n",
        "print(a[2])\r\n",
        "print(a[1])\r\n",
        "print(a[0])\r\n",
        "print(a[-1])"
      ],
      "execution_count": 17,
      "outputs": [
        {
          "output_type": "stream",
          "text": [
            "<class 'tuple'>\n",
            "This is\n",
            "2021\n",
            "Hello\n",
            "ladybug\n"
          ],
          "name": "stdout"
        }
      ]
    },
    {
      "cell_type": "code",
      "metadata": {
        "id": "_XT3lve0f6Q7",
        "outputId": "76e72566-ab5b-4680-ea43-8831c7f6e3dd",
        "colab": {
          "base_uri": "https://localhost:8080/"
        }
      },
      "source": [
        "a = [3,6,'7','puppy']\r\n",
        "a[1] = 'lovely'\r\n",
        "a[3] = 'bunny'\r\n",
        "print (a)"
      ],
      "execution_count": 7,
      "outputs": [
        {
          "output_type": "stream",
          "text": [
            "[3, 'lovely', '7', 'bunny']\n"
          ],
          "name": "stdout"
        }
      ]
    },
    {
      "cell_type": "markdown",
      "metadata": {
        "id": "lzuc8Wl4h8vd"
      },
      "source": [
        "딕셔너리는 사전같이 정의되어있는 것 <br>\r\n",
        "a = {\"표제어\":\"설명\"} ; a[표제어] 했을 시\r\n",
        "결과 값으로 설명이 나옴.<br>\r\n",
        "* 딕셔너리에는 순서가 없음."
      ]
    },
    {
      "cell_type": "code",
      "metadata": {
        "id": "HfDDARTai5AV",
        "outputId": "5443b5b9-e58a-444b-8024-1a28a4beab2b",
        "colab": {
          "base_uri": "https://localhost:8080/"
        }
      },
      "source": [
        "a =\t{\"a\": \"New\", \"b\": \"hope\", \"c\": \"club\", \"d\": 2021}\r\n",
        "print(type(a))\r\n",
        "print(a[\"b\"])\r\n",
        "print(a[\"d\"])"
      ],
      "execution_count": 16,
      "outputs": [
        {
          "output_type": "stream",
          "text": [
            "<class 'dict'>\n",
            "hope\n",
            "2021\n"
          ],
          "name": "stdout"
        }
      ]
    },
    {
      "cell_type": "markdown",
      "metadata": {
        "id": "s94IBfQ-eF9f"
      },
      "source": [
        "<기본 학습>"
      ]
    },
    {
      "cell_type": "code",
      "metadata": {
        "colab": {
          "base_uri": "https://localhost:8080/"
        },
        "id": "MHLFSwj2BBw0",
        "outputId": "a3ed1854-7391-459d-9579-87823e170843"
      },
      "source": [
        "a = 1; print(type(a))"
      ],
      "execution_count": null,
      "outputs": [
        {
          "output_type": "stream",
          "text": [
            "<class 'int'>\n"
          ],
          "name": "stdout"
        }
      ]
    },
    {
      "cell_type": "code",
      "metadata": {
        "colab": {
          "base_uri": "https://localhost:8080/"
        },
        "id": "NQU3vvkCBTCd",
        "outputId": "d3ed2982-a8ed-45eb-f04e-39dc3c1c437a"
      },
      "source": [
        "a = 1; a = float(a); print(type(a))"
      ],
      "execution_count": null,
      "outputs": [
        {
          "output_type": "stream",
          "text": [
            "<class 'float'>\n"
          ],
          "name": "stdout"
        }
      ]
    },
    {
      "cell_type": "code",
      "metadata": {
        "colab": {
          "base_uri": "https://localhost:8080/"
        },
        "id": "LLSZzVWKBW3n",
        "outputId": "659dafb1-f03e-45c4-b622-0e2edaf44bc9"
      },
      "source": [
        "a = 1.2; a = int(a); print(type(a))"
      ],
      "execution_count": null,
      "outputs": [
        {
          "output_type": "stream",
          "text": [
            "<class 'int'>\n"
          ],
          "name": "stdout"
        }
      ]
    },
    {
      "cell_type": "code",
      "metadata": {
        "colab": {
          "base_uri": "https://localhost:8080/"
        },
        "id": "oKkPHsUIBa_m",
        "outputId": "43c1e01e-cdeb-4ce1-8e72-777c309da831"
      },
      "source": [
        "a = '123'; print(type(a)); print(a[1])"
      ],
      "execution_count": null,
      "outputs": [
        {
          "output_type": "stream",
          "text": [
            "<class 'str'>\n",
            "2\n"
          ],
          "name": "stdout"
        }
      ]
    },
    {
      "cell_type": "code",
      "metadata": {
        "colab": {
          "base_uri": "https://localhost:8080/"
        },
        "id": "1JIRPR6eBddS",
        "outputId": "fac6a41d-3f23-43a3-e449-390521ace5fc"
      },
      "source": [
        "a = '123'; a = list(a); print(type(a)); print(a); print(a[2])"
      ],
      "execution_count": null,
      "outputs": [
        {
          "output_type": "stream",
          "text": [
            "<class 'list'>\n",
            "['1', '2', '3']\n",
            "3\n"
          ],
          "name": "stdout"
        }
      ]
    },
    {
      "cell_type": "code",
      "metadata": {
        "colab": {
          "base_uri": "https://localhost:8080/"
        },
        "id": "e1jLE3h3Bgiv",
        "outputId": "a28201fb-472e-4c50-b935-b26b362724ca"
      },
      "source": [
        "a = [1,'2', [3, '4']]; print(type(a)); print(a[0]); print(a[1]); print(a[2])"
      ],
      "execution_count": null,
      "outputs": [
        {
          "output_type": "stream",
          "text": [
            "<class 'list'>\n",
            "1\n",
            "2\n",
            "[3, '4']\n"
          ],
          "name": "stdout"
        }
      ]
    },
    {
      "cell_type": "code",
      "metadata": {
        "colab": {
          "base_uri": "https://localhost:8080/"
        },
        "id": "7kFXg2-lBi0v",
        "outputId": "a9ff3cbe-4f37-48bc-f811-24c537fca8d9"
      },
      "source": [
        "a = (1,'2', [3, '4']); print(type(a)); print(a[0]); print(a[1]); print(a[2])"
      ],
      "execution_count": null,
      "outputs": [
        {
          "output_type": "stream",
          "text": [
            "<class 'tuple'>\n",
            "1\n",
            "2\n",
            "[3, '4']\n"
          ],
          "name": "stdout"
        }
      ]
    },
    {
      "cell_type": "code",
      "metadata": {
        "colab": {
          "base_uri": "https://localhost:8080/"
        },
        "id": "piQAGQeRBk8f",
        "outputId": "7ab42159-da96-41a2-fc1d-98389de7f956"
      },
      "source": [
        "a =\t{\"a\": \"apple\", \"b\": \"orange\", \"c\": 2014}\r\n",
        "print(type(a))\r\n",
        "print(a[\"a\"])"
      ],
      "execution_count": null,
      "outputs": [
        {
          "output_type": "stream",
          "text": [
            "<class 'dict'>\n",
            "apple\n"
          ],
          "name": "stdout"
        }
      ]
    },
    {
      "cell_type": "code",
      "metadata": {
        "colab": {
          "base_uri": "https://localhost:8080/"
        },
        "id": "z6oMJO5aBnLk",
        "outputId": "3f402865-f857-44f3-ca9b-aba3a6cec013"
      },
      "source": [
        "a=[(1,2,3), (3,8,0)]\r\n",
        "print(type(a))\r\n",
        "a"
      ],
      "execution_count": 12,
      "outputs": [
        {
          "output_type": "stream",
          "text": [
            "<class 'list'>\n"
          ],
          "name": "stdout"
        },
        {
          "output_type": "execute_result",
          "data": {
            "text/plain": [
              "[(1, 2, 3), (3, 8, 0)]"
            ]
          },
          "metadata": {
            "tags": []
          },
          "execution_count": 12
        }
      ]
    }
  ]
}