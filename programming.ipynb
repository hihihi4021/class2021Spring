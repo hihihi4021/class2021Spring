{
  "nbformat": 4,
  "nbformat_minor": 0,
  "metadata": {
    "colab": {
      "name": "programming.ipynb",
      "provenance": [],
      "authorship_tag": "ABX9TyNpyK4yHyBO0Yy/2qWT22k+",
      "include_colab_link": true
    },
    "kernelspec": {
      "name": "python3",
      "display_name": "Python 3"
    }
  },
  "cells": [
    {
      "cell_type": "markdown",
      "metadata": {
        "id": "view-in-github",
        "colab_type": "text"
      },
      "source": [
        "<a href=\"https://colab.research.google.com/github/hihihi4021/class2021Spring/blob/main/programming.ipynb\" target=\"_parent\"><img src=\"https://colab.research.google.com/assets/colab-badge.svg\" alt=\"Open In Colab\"/></a>"
      ]
    },
    {
      "cell_type": "markdown",
      "metadata": {
        "id": "4V81F4Avox5x"
      },
      "source": [
        "## 변수\r\n",
        "인간의 언어에서 단어와 비슷, \r\n",
        "ex) a = 1 -> a가 변수, 1은 내용\r\n",
        "   *참고: 컴퓨터 언어에서 =는 오른쪽의 내용을 왼쪽에 assign하라는 수식. \r\n",
        "\r\n",
        "## 제어문\r\n",
        "인간의 언어에서 문법과 비슷, 반복과 조건이 있음.\r\n",
        "1. 반복: for \r\n",
        "  \r\n",
        "   ex) for 100 print (1) -> 100번 동안 1을 프린트 하라. (1이 100번 나옴)\r\n",
        "2. 조건: if\r\n",
        "   \r\n",
        "   ex) a = 1, if a==1, print (3) -> a가 1이면 3을 프린트하라. (a가 1이면 결과값으로 3이 나옴.)\r\n",
        "\r\n",
        "## 함수\r\n",
        "입/출력 관계에서 중간 과정, 이 과정 중 입력을 변화시켜 출력을 도출하는 과정.\r\n",
        "\r\n",
        "ex) function add (a,b), c = a + b\r\n",
        " \r\n",
        "  ㄴa 와 b를 더해 c를 구하는 함수. \r\n"
      ]
    }
  ]
}