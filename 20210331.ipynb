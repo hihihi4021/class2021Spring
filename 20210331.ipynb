{
  "nbformat": 4,
  "nbformat_minor": 0,
  "metadata": {
    "colab": {
      "name": "Untitled7.ipynb",
      "provenance": [],
      "authorship_tag": "ABX9TyNDV+iucKPM1oXbmKe14qlY",
      "include_colab_link": true
    },
    "kernelspec": {
      "name": "python3",
      "display_name": "Python 3"
    },
    "language_info": {
      "name": "python"
    }
  },
  "cells": [
    {
      "cell_type": "markdown",
      "metadata": {
        "id": "view-in-github",
        "colab_type": "text"
      },
      "source": [
        "<a href=\"https://colab.research.google.com/github/hihihi4021/class2021Spring/blob/main/20210331.ipynb\" target=\"_parent\"><img src=\"https://colab.research.google.com/assets/colab-badge.svg\" alt=\"Open In Colab\"/></a>"
      ]
    },
    {
      "cell_type": "markdown",
      "metadata": {
        "id": "Ou70Abv54iXe"
      },
      "source": [
        "sound '아'\n",
        "pitch: \n",
        "duration: 0.559828\n",
        "intensity: \n",
        "formants:\n",
        "\n"
      ]
    },
    {
      "cell_type": "markdown",
      "metadata": {
        "id": "xkloCS6G4-Q5"
      },
      "source": [
        "sound '애'\n",
        "pitch: Hz\n",
        "duration:0.603451 sec\n",
        "intensity: db\n",
        "formants: Hz"
      ]
    },
    {
      "cell_type": "markdown",
      "metadata": {
        "id": "4ISwuOfk4w26"
      },
      "source": [
        ""
      ]
    }
  ]
}