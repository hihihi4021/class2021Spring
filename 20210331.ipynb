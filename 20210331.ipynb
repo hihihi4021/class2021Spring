{
  "nbformat": 4,
  "nbformat_minor": 0,
  "metadata": {
    "colab": {
      "name": "Untitled7.ipynb",
      "provenance": [],
      "authorship_tag": "ABX9TyM/aS+YMfs3xQRoiUkmHxrD",
      "include_colab_link": true
    },
    "kernelspec": {
      "name": "python3",
      "display_name": "Python 3"
    },
    "language_info": {
      "name": "python"
    }
  },
  "cells": [
    {
      "cell_type": "markdown",
      "metadata": {
        "id": "view-in-github",
        "colab_type": "text"
      },
      "source": [
        "<a href=\"https://colab.research.google.com/github/hihihi4021/class2021Spring/blob/main/20210331.ipynb\" target=\"_parent\"><img src=\"https://colab.research.google.com/assets/colab-badge.svg\" alt=\"Open In Colab\"/></a>"
      ]
    },
    {
      "cell_type": "markdown",
      "metadata": {
        "id": "Ou70Abv54iXe"
      },
      "source": [
        "sound '아'\n",
        "pitch: 207.5 Hz\n",
        "duration: 0.559828 sec\n",
        "intensity: 70.30 dB\n",
        "formants: 2,655 Hz\n",
        "\n"
      ]
    },
    {
      "cell_type": "markdown",
      "metadata": {
        "id": "xkloCS6G4-Q5"
      },
      "source": [
        "sound '애'\n",
        "pitch: 207.5 Hz\n",
        "duration:0.603451 sec\n",
        "intensity: 68.74 db\n",
        "formants: 2,527.1 Hz"
      ]
    }
  ]
}