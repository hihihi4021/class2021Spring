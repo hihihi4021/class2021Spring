{
  "nbformat": 4,
  "nbformat_minor": 0,
  "metadata": {
    "colab": {
      "name": "Untitled10.ipynb",
      "provenance": [],
      "authorship_tag": "ABX9TyNZedjYz88gf4otKCx9atGo",
      "include_colab_link": true
    },
    "kernelspec": {
      "name": "python3",
      "display_name": "Python 3"
    },
    "language_info": {
      "name": "python"
    }
  },
  "cells": [
    {
      "cell_type": "markdown",
      "metadata": {
        "id": "view-in-github",
        "colab_type": "text"
      },
      "source": [
        "<a href=\"https://colab.research.google.com/github/hihihi4021/class2021Spring/blob/main/20210426.ipynb\" target=\"_parent\"><img src=\"https://colab.research.google.com/assets/colab-badge.svg\" alt=\"Open In Colab\"/></a>"
      ]
    },
    {
      "cell_type": "code",
      "metadata": {
        "id": "LpKOFMaxnZcV"
      },
      "source": [
        "%matplotlib inline\n",
        "from matplotlib import pyplot as plt\n",
        "import IPython.display as ipd\n",
        "import numpy as np\n",
        "from scipy.signal import lfilter"
      ],
      "execution_count": 30,
      "outputs": []
    },
    {
      "cell_type": "code",
      "metadata": {
        "id": "x-Qoau2EnqpZ"
      },
      "source": [
        "# parameter setting\n",
        "amp = 1          # range [0.0, 1.0]\n",
        "sr = 10000       # sampling rate, Hz\n",
        "dur = 0.5        # in seconds\n",
        "freq = 100.0     # sine frequency, Hz"
      ],
      "execution_count": 31,
      "outputs": []
    },
    {
      "cell_type": "code",
      "metadata": {
        "id": "QtORr248xW4y"
      },
      "source": [
        "def phasor(amp, sr, dur, freq):\n",
        "  return (signal,theta, time)"
      ],
      "execution_count": 32,
      "outputs": []
    },
    {
      "cell_type": "code",
      "metadata": {
        "id": "3TTI-XaNy8hD",
        "outputId": "aa6056b8-5ccc-4cec-8604-2d45fd41bda7",
        "colab": {
          "base_uri": "https://localhost:8080/"
        }
      },
      "source": [
        "c = phasor\n",
        "print(c)"
      ],
      "execution_count": 33,
      "outputs": [
        {
          "output_type": "stream",
          "text": [
            "<function phasor at 0x7f51612a9e60>\n"
          ],
          "name": "stdout"
        }
      ]
    }
  ]
}