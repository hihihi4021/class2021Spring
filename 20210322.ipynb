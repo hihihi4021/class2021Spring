{
  "nbformat": 4,
  "nbformat_minor": 0,
  "metadata": {
    "colab": {
      "name": "Untitled4.ipynb",
      "provenance": [],
      "authorship_tag": "ABX9TyPJM4g45XPqF7A9m55g3909",
      "include_colab_link": true
    },
    "kernelspec": {
      "name": "python3",
      "display_name": "Python 3"
    },
    "language_info": {
      "name": "python"
    }
  },
  "cells": [
    {
      "cell_type": "markdown",
      "metadata": {
        "id": "view-in-github",
        "colab_type": "text"
      },
      "source": [
        "<a href=\"https://colab.research.google.com/github/hihihi4021/class2021Spring/blob/main/20210322.ipynb\" target=\"_parent\"><img src=\"https://colab.research.google.com/assets/colab-badge.svg\" alt=\"Open In Colab\"/></a>"
      ]
    },
    {
      "cell_type": "code",
      "metadata": {
        "id": "J781tIBnXqlx"
      },
      "source": [
        "def func2(x,a,b,c):\n",
        "  y=a*x**2+b*x+c\n",
        "  return y"
      ],
      "execution_count": 14,
      "outputs": []
    },
    {
      "cell_type": "code",
      "metadata": {
        "colab": {
          "base_uri": "https://localhost:8080/"
        },
        "id": "7Pz8vaVPZ2we",
        "outputId": "7742c986-0fe5-4657-8f8d-83339e98d5da"
      },
      "source": [
        "func2(7,3,6,-3)"
      ],
      "execution_count": 15,
      "outputs": [
        {
          "output_type": "execute_result",
          "data": {
            "text/plain": [
              "186"
            ]
          },
          "metadata": {
            "tags": []
          },
          "execution_count": 15
        }
      ]
    },
    {
      "cell_type": "code",
      "metadata": {
        "id": "MzLms4ehYqHX"
      },
      "source": [
        "def func1(x,a,b):\n",
        " y=a*x+b\n",
        " return y"
      ],
      "execution_count": 17,
      "outputs": []
    },
    {
      "cell_type": "code",
      "metadata": {
        "colab": {
          "base_uri": "https://localhost:8080/"
        },
        "id": "5P_dAqa7aAyw",
        "outputId": "e85f5974-5e5e-4256-e212-91aecd6426a7"
      },
      "source": [
        "func1(1,2,3)"
      ],
      "execution_count": 18,
      "outputs": [
        {
          "output_type": "execute_result",
          "data": {
            "text/plain": [
              "5"
            ]
          },
          "metadata": {
            "tags": []
          },
          "execution_count": 18
        }
      ]
    },
    {
      "cell_type": "code",
      "metadata": {
        "id": "bxWA8_jaUYbI"
      },
      "source": [
        "def add(a,b):\n",
        "  return a,b\n",
        "def subtract(a,b):\n",
        "  return a-b\n",
        "def multiply (a,b):\n",
        "  return a*b\n",
        "def divide(a,b):\n",
        "  return a/b"
      ],
      "execution_count": null,
      "outputs": []
    }
  ]
}